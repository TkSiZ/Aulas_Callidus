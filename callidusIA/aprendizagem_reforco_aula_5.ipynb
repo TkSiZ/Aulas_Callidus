{
 "cells": [
  {
   "cell_type": "markdown",
   "id": "9fdbd092",
   "metadata": {},
   "source": [
    "<h1>\n",
    "    <center>\n",
    "       O modelo Thompson Sampling"
   ]
  },
  {
   "cell_type": "markdown",
   "id": "de876196",
   "metadata": {},
   "source": [
    "# Determinação da máquina com maior chance de vitória"
   ]
  },
  {
   "cell_type": "markdown",
   "id": "df489a18",
   "metadata": {},
   "source": [
    "O modelo de Thompson Sampling será utilizado para determinar quais das máquinas oferece a maior chance de vitória. Este algoritmo utiliza a função de distribuição apresentada a seguir:\n",
    "\n",
    "\\begin{equation}\n",
    "    x = \\beta(a,b)\n",
    "\\end{equation}\n",
    "onde:\n",
    "* $x$ é uma escolha aleatória para distribuição Beta;\n",
    "* $\\beta$ é nossa função Beta;\n",
    "* $a$ é o primeiro argumento;\n",
    "* $b$ é o segundo argumento."
   ]
  },
  {
   "cell_type": "markdown",
   "id": "841928c0",
   "metadata": {},
   "source": [
    "## Importing the libraries "
   ]
  },
  {
   "cell_type": "code",
   "execution_count": 1,
   "id": "e8a5373a",
   "metadata": {},
   "outputs": [],
   "source": [
    "import numpy as np"
   ]
  },
  {
   "cell_type": "markdown",
   "id": "f573e7c6",
   "metadata": {},
   "source": [
    "## Setting conversion rates and the number of samples"
   ]
  },
  {
   "cell_type": "markdown",
   "id": "27d9ccd8",
   "metadata": {},
   "source": [
    "Now we have to understand something very important. You are creating a simulation whose aim is to simulate real-life situations. In reality, every slot machine gives us some chance of winning, and some machines have it higher than others. Therefore, when simulating this environment, you have to do the same thing. It is important to remember, however, that our AI will not know these predefined winning rates. It cannot just read them and judge, based on these rates, which machine is the best"
   ]
  },
  {
   "cell_type": "code",
   "execution_count": 49,
   "id": "178f3fd4",
   "metadata": {},
   "outputs": [],
   "source": [
    "conversionRates = [0.15, 0.04, 0.13, 0.11, 0.05]\n",
    "N = 10000\n",
    "d = len(conversionRates)"
   ]
  },
  {
   "cell_type": "markdown",
   "id": "7230b49b",
   "metadata": {},
   "source": [
    "## Criação do dataset para treinamento"
   ]
  },
  {
   "cell_type": "code",
   "execution_count": 50,
   "id": "36866f43",
   "metadata": {},
   "outputs": [],
   "source": [
    "X = np.zeros((N,d))\n",
    "for i in range(N):\n",
    "    for j in range(d):\n",
    "        if np.random.rand() < conversionRates[j]:\n",
    "            X[i][j] = 1"
   ]
  },
  {
   "cell_type": "markdown",
   "id": "0c7c7cd0",
   "metadata": {},
   "source": [
    "## Counter of victory number"
   ]
  },
  {
   "cell_type": "code",
   "execution_count": 51,
   "id": "2188be9a",
   "metadata": {},
   "outputs": [],
   "source": [
    "nPosReward = np.zeros(d)\n",
    "nNegReward = np.zeros(d)"
   ]
  },
  {
   "cell_type": "markdown",
   "id": "d92d71f1",
   "metadata": {},
   "source": [
    "## Taking our best slot machine through beta distribution and updating its losses and wins"
   ]
  },
  {
   "cell_type": "code",
   "execution_count": 52,
   "id": "0ee3fe50",
   "metadata": {},
   "outputs": [],
   "source": [
    "for i in range(N):\n",
    "    selected = 0\n",
    "    maxRandom = 0\n",
    "    for j in range(d):\n",
    "        randomBeta = np.random.beta(nPosReward[j] + 1, nNegReward[j] +1)\n",
    "        if randomBeta > maxRandom:\n",
    "            selected = j\n",
    "            maxRandom = randomBeta\n",
    "    if X[i][selected] == 1:\n",
    "        nPosReward[selected] += 1\n",
    "    else:\n",
    "        nNegReward[selected] += 1"
   ]
  },
  {
   "cell_type": "markdown",
   "id": "af4d12ce",
   "metadata": {},
   "source": [
    "## Showing which slot machine is considered the best"
   ]
  },
  {
   "cell_type": "code",
   "execution_count": 53,
   "id": "6d564617",
   "metadata": {},
   "outputs": [
    {
     "name": "stdout",
     "output_type": "stream",
     "text": [
      "Machine number 1 was selected 7816.0 times\n",
      "Machine number 2 was selected 174.0 times\n",
      "Machine number 3 was selected 1690.0 times\n",
      "Machine number 4 was selected 264.0 times\n",
      "Machine number 5 was selected 56.0 times\n",
      "Conclusion: Best machine is machine number 1\n"
     ]
    }
   ],
   "source": [
    "nSelected = nPosReward + nNegReward\n",
    "for i in range(d):\n",
    "    print('Machine number ' + str(i + 1) + ' was selected ' +\n",
    "    str(nSelected[i]) + ' times')\n",
    "print('Conclusion: Best machine is machine number ' + str(np.argmax(nSelected) + 1))"
   ]
  },
  {
   "cell_type": "code",
   "execution_count": null,
   "id": "cc16703f",
   "metadata": {},
   "outputs": [],
   "source": []
  },
  {
   "cell_type": "code",
   "execution_count": null,
   "id": "75262230",
   "metadata": {},
   "outputs": [],
   "source": []
  },
  {
   "cell_type": "code",
   "execution_count": null,
   "id": "40f9e187",
   "metadata": {},
   "outputs": [],
   "source": []
  }
 ],
 "metadata": {
  "kernelspec": {
   "display_name": "Python 3 (ipykernel)",
   "language": "python",
   "name": "python3"
  },
  "language_info": {
   "codemirror_mode": {
    "name": "ipython",
    "version": 3
   },
   "file_extension": ".py",
   "mimetype": "text/x-python",
   "name": "python",
   "nbconvert_exporter": "python",
   "pygments_lexer": "ipython3",
   "version": "3.9.19"
  }
 },
 "nbformat": 4,
 "nbformat_minor": 5
}
