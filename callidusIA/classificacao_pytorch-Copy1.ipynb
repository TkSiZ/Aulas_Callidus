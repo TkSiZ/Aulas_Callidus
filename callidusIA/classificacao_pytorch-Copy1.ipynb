{
 "cells": [
  {
   "cell_type": "markdown",
   "metadata": {
    "colab_type": "text",
    "id": "JDM84H0wO5I_"
   },
   "source": [
    "# Carregamento de Dados\n",
    "\n",
    "Objetivos dessa aula:\n",
    "* Carregar dados reais do Pytorch\n",
    "* Implementar o fluxo de treinamento completo de uma rede"
   ]
  },
  {
   "cell_type": "markdown",
   "metadata": {
    "colab_type": "text",
    "id": "Qg_W2-tDlpz3"
   },
   "source": [
    "## Hiperparâmetros\n",
    "\n",
    "Com o objetivo de simplificar a compreensão e a manutenção do código, é recomendado manter consistentemente no início os seguintes elementos:\n",
    "\n",
    "* imports de pacotes\n",
    "* configuração de hiperparâmetros\n",
    "* definição do hardware padrão utilizado\n",
    "\n",
    "Durante esta aula, será necessário utilizar uma GPU para lidar com dados reais. Recomenda-se executar o mesmo código em outro momento, sem a utilização da GPU, para experimentar as vantagens que ela oferece no contexto de redes neurais.\n",
    "\n",
    "Caso esteja utilizando o pytorch pela primeira vez é necessário realizar a instalação do pacote por meio do comando: \n",
    "`\n",
    "conda install pytorch torchvision torchaudio pytorch-cuda=11.8 -c pytorch -c nvidia\n",
    "`\n",
    "\n",
    "# Import de pacotes\n",
    "\n",
    "```\n",
    "import torch\n",
    "from torch import nn, optim\n",
    "\n",
    "from torchvision import datasets\n",
    "from torchvision import transforms \n",
    "\n",
    "from torch.utils.data import DataLoader\n",
    "\n",
    "import matplotlib.pyplot as plt\n",
    "import numpy as np\n",
    "import time\n",
    "```"
   ]
  },
  {
   "cell_type": "code",
   "execution_count": 7,
   "metadata": {
    "colab": {
     "base_uri": "https://localhost:8080/",
     "height": 36
    },
    "colab_type": "code",
    "executionInfo": {
     "elapsed": 1072,
     "status": "ok",
     "timestamp": 1576693565914,
     "user": {
      "displayName": "Camila Laranjeira",
      "photoUrl": "https://lh3.googleusercontent.com/a-/AAuE7mCfgXxjTVPyGE0vH1sGz0gI39poyLbeKld6jeGHhEg=s64",
      "userId": "03895474106233302954"
     },
     "user_tz": 180
    },
    "id": "BwF0L2d6lH5O",
    "outputId": "e65d8631-eaf2-4f30-b604-7e6842a99ace"
   },
   "outputs": [],
   "source": [
    "import torch\n",
    "from torch import nn, optim\n",
    "\n",
    "from torchvision import datasets\n",
    "from torchvision import transforms \n",
    "\n",
    "from torch.utils.data import DataLoader\n",
    "\n",
    "import matplotlib.pyplot as plt\n",
    "import numpy as np\n",
    "import time"
   ]
  },
  {
   "cell_type": "markdown",
   "metadata": {},
   "source": [
    "# Configuração de hiperparâmetros\n",
    "```\n",
    "args = {\n",
    "    'batch_size': 5,\n",
    "    'num_workers': 4,\n",
    "    'num_classes': 10,\n",
    "    'lr': 1e-4,\n",
    "    'weight_decay': 5e-4,\n",
    "    'num_epochs': 30\n",
    "}\n",
    "\n",
    "if torch.cuda.is_available():\n",
    "  args['device'] = torch.device('cuda')\n",
    "else:\n",
    "  args['device'] = torch.device('cpu')\n",
    "\n",
    "print(args['device'])\n",
    "```"
   ]
  },
  {
   "cell_type": "code",
   "execution_count": 65,
   "metadata": {},
   "outputs": [
    {
     "name": "stdout",
     "output_type": "stream",
     "text": [
      "cuda\n"
     ]
    }
   ],
   "source": [
    "args = {\n",
    "    'batch_size': 50,\n",
    "    'num_workers': 4,\n",
    "    'num_classes': 10,\n",
    "    'lr': 1e-4,\n",
    "    'weight_decay': 5e-4,\n",
    "    'num_epochs': 30\n",
    "}\n",
    "\n",
    "if torch.cuda.is_available():\n",
    "  args['device'] = torch.device('cuda')\n",
    "else:\n",
    "  args['device'] = torch.device('cpu')\n",
    "\n",
    "print(args['device'])"
   ]
  },
  {
   "cell_type": "markdown",
   "metadata": {
    "colab_type": "text",
    "id": "bsFc4SPtRKM-"
   },
   "source": [
    "## Datasets\n",
    "\n",
    "O PyTorch possui dois pacotes que trazem datasets prontos para uso.\n",
    "\n",
    "* Torchtext: https://torchtext.readthedocs.io/en/latest/datasets.html\n",
    "* Torchvision: https://pytorch.org/docs/stable/torchvision/datasets.html\n",
    "\n",
    "Como os nomes indicam, são datasets de textos (text) e imagens (vision), duas aplicações onde redes neurais são muito bem sucedidas.\n",
    "\n",
    "Para aplicações com textos e outros tipos de séries temporais, o carregamento de dados possui nuances que dificultam o entendimento, portanto vamos concentrar no carregamento de imagens.\n",
    "\n",
    "### Torchvision datasets\n",
    "\n",
    "Para trabalhar com datasets do pacote torchvision, basta\n",
    "* Importar o pacote\n",
    "``` python \n",
    "from torchvision import datasets \n",
    "```\n",
    "* Carregar o dataset do seu interesse (ex: MNIST)\n",
    "``` python \n",
    "data = datasets.MNIST(root, train=True, transform=None, target_transform=None, download=False)\n",
    "```\n",
    "\n",
    "Documentação: https://pytorch.org/docs/stable/torchvision/datasets.html\n",
    "\n",
    "### Torchvision transforms\n",
    "\n",
    "Durante o curso de visão computacional, serão abordadas as nuances das transformações de imagens. No entanto, é importante ressaltar que, independentemente do dataset utilizado, é necessário convertê-lo em um tensor para alimentar uma rede em PyTorch. Essa conversão pode ser realizada durante o processo de carregamento dos dados, bastando seguir os seguintes passos:\n",
    "\n",
    "* Importar o pacote transforms\n",
    "``` python \n",
    "from torchvision import transforms \n",
    "```\n",
    "* preencher o parâmetro ```tranform``` do dataset com a função que converte para tensor.\n",
    "``` python \n",
    "transforms.ToTensor() \n",
    "```\n",
    "\n",
    "Pronto! Quando seu dado for carregado, ele passará pela transformação indicada no parâmetro ```tranform```, nesse caso, convertendo o dado para um tensor.\n",
    "\n",
    "Documentação: https://pytorch.org/docs/stable/torchvision/transforms.html\n",
    "\n",
    "```\n",
    "train_set = datasets.MNIST('./', \n",
    "                           train=True, \n",
    "                           transform=transforms.ToTensor(),\n",
    "                           download=True)\n",
    "\n",
    "test_set = datasets.MNIST('./', \n",
    "                           train=False, \n",
    "                           transform=transforms.ToTensor(),\n",
    "                           download=False)\n",
    "\n",
    "print('Amostras de treino: ' + str(len(train_set)) + '\\nAmostras de Teste:' + str(len(test_set)))\n",
    "```\n"
   ]
  },
  {
   "cell_type": "code",
   "execution_count": 19,
   "metadata": {
    "colab": {
     "base_uri": "https://localhost:8080/",
     "height": 316
    },
    "colab_type": "code",
    "executionInfo": {
     "elapsed": 8314,
     "status": "ok",
     "timestamp": 1576689160593,
     "user": {
      "displayName": "Camila Laranjeira",
      "photoUrl": "https://lh3.googleusercontent.com/a-/AAuE7mCfgXxjTVPyGE0vH1sGz0gI39poyLbeKld6jeGHhEg=s64",
      "userId": "03895474106233302954"
     },
     "user_tz": 180
    },
    "id": "gTf4IYONRJvW",
    "outputId": "b8d48b29-9f8b-4945-bd83-5b7748246876"
   },
   "outputs": [
    {
     "name": "stdout",
     "output_type": "stream",
     "text": [
      "Amostras de treino: 60000\n",
      "Amostras de Teste:10000\n"
     ]
    }
   ],
   "source": [
    "train_set = datasets.MNIST('./', \n",
    "                           train=True, \n",
    "                           transform=transforms.ToTensor(),\n",
    "                           download=True)\n",
    "\n",
    "test_set = datasets.MNIST('./', \n",
    "                           train=False, \n",
    "                           transform=transforms.ToTensor(),\n",
    "                           download=False)\n",
    "\n",
    "print('Amostras de treino: ' + str(len(train_set)) + '\\nAmostras de Teste:' + str(len(test_set)))"
   ]
  },
  {
   "cell_type": "markdown",
   "metadata": {
    "colab_type": "text",
    "id": "phD86edTqUsL"
   },
   "source": [
    "Cada dataset possui uma implementação específica internamente no pytorch. Verifique o ```type``` da variável que recebeu os dados e veja que se refere a uma classe específica do dataset.\n",
    "\n",
    "No entanto, o item de qualquer dataset **sempre será uma tupla ```(dado, rótulo)```**. \n",
    "```\n",
    "print(type(train_set))\n",
    "print(type(train_set[0]))\n",
    "```"
   ]
  },
  {
   "cell_type": "code",
   "execution_count": 46,
   "metadata": {
    "colab": {
     "base_uri": "https://localhost:8080/",
     "height": 54
    },
    "colab_type": "code",
    "executionInfo": {
     "elapsed": 8306,
     "status": "ok",
     "timestamp": 1576689160596,
     "user": {
      "displayName": "Camila Laranjeira",
      "photoUrl": "https://lh3.googleusercontent.com/a-/AAuE7mCfgXxjTVPyGE0vH1sGz0gI39poyLbeKld6jeGHhEg=s64",
      "userId": "03895474106233302954"
     },
     "user_tz": 180
    },
    "id": "WCT6dYK-mDvO",
    "outputId": "2c5ecbc3-b9fc-46ff-9d33-933ce9f105e4"
   },
   "outputs": [
    {
     "name": "stdout",
     "output_type": "stream",
     "text": [
      "<class 'torchvision.datasets.mnist.MNIST'>\n",
      "<class 'tuple'>\n"
     ]
    }
   ],
   "source": [
    "print(type(train_set))\n",
    "print(type(train_set[0]))"
   ]
  },
  {
   "cell_type": "markdown",
   "metadata": {
    "colab_type": "text",
    "id": "faiKU3bAbCn4"
   },
   "source": [
    "Podemos então iterar no dataset para observar algumas amostras e seus rótulos."
   ]
  },
  {
   "cell_type": "markdown",
   "metadata": {},
   "source": [
    "```\n",
    "for i in range(3):\n",
    "    dado, rotulo = train_set[i]\n",
    "\n",
    "    plt.figure()\n",
    "    plt.imshow(dado[0])\n",
    "    plt.title('Rotulo: '+ str(rotulo))\n",
    "```"
   ]
  },
  {
   "cell_type": "code",
   "execution_count": 48,
   "metadata": {
    "colab": {
     "base_uri": "https://localhost:8080/",
     "height": 809
    },
    "colab_type": "code",
    "executionInfo": {
     "elapsed": 6515,
     "status": "ok",
     "timestamp": 1576689161028,
     "user": {
      "displayName": "Camila Laranjeira",
      "photoUrl": "https://lh3.googleusercontent.com/a-/AAuE7mCfgXxjTVPyGE0vH1sGz0gI39poyLbeKld6jeGHhEg=s64",
      "userId": "03895474106233302954"
     },
     "user_tz": 180
    },
    "id": "osYMtHZxm-xa",
    "outputId": "9e4eab7c-d57e-4487-e516-422bc98d589b"
   },
   "outputs": [
    {
     "data": {
      "image/png": "[encoded data removed]",
      "text/plain": [
       "<Figure size 640x480 with 1 Axes>"
      ]
     },
     "metadata": {},
     "output_type": "display_data"
    },
    {
     "data": {
      "image/png": "[encoded data removed]",
      "text/plain": [
       "<Figure size 640x480 with 1 Axes>"
      ]
     },
     "metadata": {},
     "output_type": "display_data"
    },
    {
     "data": {
      "image/png": "[encoded data removed]",
      "text/plain": [
       "<Figure size 640x480 with 1 Axes>"
      ]
     },
     "metadata": {},
     "output_type": "display_data"
    }
   ],
   "source": [
    "for i in range(3):\n",
    "    dado, rotulo = train_set[i]\n",
    "\n",
    "    plt.figure()\n",
    "    plt.imshow(dado[0], cmap=\"gray\")\n",
    "    plt.title('Rotulo: '+ str(rotulo))"
   ]
  },
  {
   "cell_type": "markdown",
   "metadata": {
    "colab_type": "text",
    "id": "3VrnShaaZXfF"
   },
   "source": [
    "Temos um total de 70 mil amostras, mas elas **ainda não estão carregadas na memória** (isso seria bastante custoso). A vantagem da classe ```Dataset``` do Pytorch é que as amostras só são carregadas quando necessário.\n",
    "\n",
    "Sugestão: experimente trocar a transformação do Dataset para\n",
    "```python\n",
    "transforms.RandomCrop(12)\n",
    "```\n",
    "Essa função realiza um recorte aleatório de ```12 x 12``` (pixels) na imagem. Ao carregar a mesma amostra múltiplas vezes, um novo recorte será feito. \n",
    "```\n",
    "crop_set = datasets.MNIST('./', \n",
    "                           train=False, \n",
    "                           transform=transforms.RandomCrop(12),\n",
    "                           download=False)\n",
    "\n",
    "# Tuple (dado, rótulo)\n",
    "for i in range(3):\n",
    "    dado, rotulo = crop_set[0]\n",
    "  \n",
    "    plt.figure()\n",
    "    plt.imshow(dado)\n",
    "    plt.title('Rótulo: '+ str(rotulo))\n",
    "```"
   ]
  },
  {
   "cell_type": "code",
   "execution_count": 6,
   "metadata": {
    "colab": {
     "base_uri": "https://localhost:8080/",
     "height": 809
    },
    "colab_type": "code",
    "executionInfo": {
     "elapsed": 952,
     "status": "ok",
     "timestamp": 1576689233841,
     "user": {
      "displayName": "Camila Laranjeira",
      "photoUrl": "https://lh3.googleusercontent.com/a-/AAuE7mCfgXxjTVPyGE0vH1sGz0gI39poyLbeKld6jeGHhEg=s64",
      "userId": "03895474106233302954"
     },
     "user_tz": 180
    },
    "id": "Iv72f6llTL31",
    "outputId": "f2db8ea8-8422-4518-bcb5-bf3933db8438"
   },
   "outputs": [
    {
     "data": {
      "image/png": "[encoded data removed]",
      "text/plain": [
       "<Figure size 640x480 with 1 Axes>"
      ]
     },
     "metadata": {},
     "output_type": "display_data"
    },
    {
     "data": {
      "image/png": "[encoded data removed]",
      "text/plain": [
       "<Figure size 640x480 with 1 Axes>"
      ]
     },
     "metadata": {},
     "output_type": "display_data"
    },
    {
     "data": {
      "image/png": "[encoded data removed]",
      "text/plain": [
       "<Figure size 640x480 with 1 Axes>"
      ]
     },
     "metadata": {},
     "output_type": "display_data"
    }
   ],
   "source": [
    "crop_set = datasets.MNIST('./', \n",
    "                           train=False, \n",
    "                           transform=transforms.RandomCrop(12),\n",
    "                           download=False)\n",
    "\n",
    "# Tuple (dado, rótulo)\n",
    "for i in range(3):\n",
    "    dado, rotulo = crop_set[0]\n",
    "  \n",
    "    plt.figure()\n",
    "    plt.imshow(dado)\n",
    "    plt.title('Rótulo: '+ str(rotulo))"
   ]
  },
  {
   "cell_type": "markdown",
   "metadata": {
    "colab_type": "text",
    "id": "BO8AVlT4bTQC"
   },
   "source": [
    "Em resumo, cada vez que indexamos um item do dataset, as seguintes operações são realizadas:\n",
    "* Amostra lida do arquivo e carregada como uma tupla ```(dado, rótulo)```\n",
    "* As transformações são aplicadas "
   ]
  },
  {
   "cell_type": "markdown",
   "metadata": {
    "colab_type": "text",
    "id": "yZq6iuq6lQ9N"
   },
   "source": [
    "## Dataloader\n",
    "\n",
    "Essa aqui é uma das principais razões do Pytorch ser o pacote preferido de muitos profissionais. O Dataloader gerencia muito bem o carregamento de dados para o treinamento de redes neurais, trazendo as funções: \n",
    "\n",
    "* Separação dos dados em batches\n",
    "* Embaralhando os dados\n",
    "* Carregando batches em paralelo utilizando threads\n",
    "\n",
    "O uso de threads no carregamento minimiza períodos ociosos de processamento, visto que a leitura de dados em arquivo é um grande gargalo de tempo.\n",
    "\n",
    "As três funcionalidades que acabamos de conhecer são controladas pelos parâmetros da chamada do DataLoader.\n",
    "```python\n",
    "loader = DataLoader(dataset, batch_size=4, shuffle=True, num_workers=4)\n",
    "```\n",
    "\n",
    "```\n",
    "train_loader = DataLoader(train_set, \n",
    "                          batch_size=args['batch_size'], \n",
    "                          shuffle=True, \n",
    "                          num_workers=args['num_workers'])\n",
    "\n",
    "test_loader = DataLoader(test_set, \n",
    "                          batch_size=args['batch_size'], \n",
    "                          shuffle=True, \n",
    "                          num_workers=args['num_workers'])\n",
    "```\n"
   ]
  },
  {
   "cell_type": "code",
   "execution_count": 50,
   "metadata": {
    "colab": {},
    "colab_type": "code",
    "id": "xuETOc64MynK"
   },
   "outputs": [],
   "source": [
    "train_loader = DataLoader(train_set, \n",
    "                          batch_size=args['batch_size'], \n",
    "                          shuffle=True, \n",
    "                          num_workers=args['num_workers'])\n",
    "\n",
    "test_loader = DataLoader(test_set, \n",
    "                          batch_size=args['batch_size'], \n",
    "                          shuffle=True, \n",
    "                          num_workers=args['num_workers'])"
   ]
  },
  {
   "cell_type": "markdown",
   "metadata": {
    "colab_type": "text",
    "id": "m_wBx0Uesrgu"
   },
   "source": [
    "O objeto retornado é um **iterador**, podendo ser utilizado para iterar em loops mas não suportando indexação.\n",
    "```\n",
    "for batch in train_loader:\n",
    "  \n",
    "    dado, rotulo = batch\n",
    "    print(dado.size(), rotulo.size())\n",
    "\n",
    "    plt.imshow(dado[0][0])\n",
    "    plt.title('Rotulo: '+ str(rotulo[0]) )\n",
    "    break\n",
    "```"
   ]
  },
  {
   "cell_type": "code",
   "execution_count": 53,
   "metadata": {
    "colab": {
     "base_uri": "https://localhost:8080/",
     "height": 300
    },
    "colab_type": "code",
    "executionInfo": {
     "elapsed": 1085,
     "status": "ok",
     "timestamp": 1576689251196,
     "user": {
      "displayName": "Camila Laranjeira",
      "photoUrl": "https://lh3.googleusercontent.com/a-/AAuE7mCfgXxjTVPyGE0vH1sGz0gI39poyLbeKld6jeGHhEg=s64",
      "userId": "03895474106233302954"
     },
     "user_tz": 180
    },
    "id": "6zw1aAcsVCyp",
    "outputId": "06618a8f-23c1-41b8-ed0a-8f935d9e92df"
   },
   "outputs": [
    {
     "name": "stdout",
     "output_type": "stream",
     "text": [
      "torch.Size([5, 1, 28, 28]) torch.Size([5])\n"
     ]
    },
    {
     "data": {
      "image/png": "[encoded data removed]",
      "text/plain": [
       "<Figure size 640x480 with 1 Axes>"
      ]
     },
     "metadata": {},
     "output_type": "display_data"
    }
   ],
   "source": [
    "for batch in train_loader:\n",
    "  \n",
    "    dado, rotulo = batch\n",
    "    print(dado.size(), rotulo.size())\n",
    "\n",
    "    plt.imshow(dado[0][0])\n",
    "    plt.title('Rotulo: '+ str(rotulo[0]) )\n",
    "    break"
   ]
  },
  {
   "cell_type": "markdown",
   "metadata": {
    "colab_type": "text",
    "id": "jPCE1MC8yf02"
   },
   "source": [
    "## Implementando o MLP\n",
    "\n",
    "\n",
    "**Lembrete**: Multi-Layer Perceptrons trabalham somente com dados unidimensionais (vetores). Sendo a imagem com dimensionalidade ```(1, 28, 28)```, precisamos linearizá-la antes de alimentar a rede. Isso implica que o a entrada da rede terá ```input_size = 28 x 28 x 1 = 784```\n",
    "```\n",
    "class MLP(nn.Module):\n",
    "\n",
    "    def __init__(self, input_size, hidden_size, out_size):\n",
    "        super(MLP, self).__init__()\n",
    "\n",
    "        self.features  = nn.Sequential(\n",
    "                      nn.Linear(input_size, hidden_size),\n",
    "                      nn.ReLU(),\n",
    "                      nn.Linear(hidden_size, hidden_size),\n",
    "                      nn.ReLU()\n",
    "                    )\n",
    "        self.out     = nn.Linear(hidden_size, out_size)\n",
    "        self.softmax = nn.Softmax()\n",
    "\n",
    "    def forward(self, X):\n",
    "    \n",
    "        X = X.view(X.size(0), -1)\n",
    "\n",
    "        feature = self.features(X)\n",
    "        output  = self.softmax(self.out(feature))\n",
    "\n",
    "        return output\n",
    "\n",
    "input_size  = 28 * 28\n",
    "hidden_size = 128\n",
    "out_size    = 10 #classes\n",
    "\n",
    "torch.manual_seed(42)\n",
    "net = MLP(input_size, hidden_size, out_size).to(args['device']) #cast na GPU \n",
    "```"
   ]
  },
  {
   "cell_type": "code",
   "execution_count": 54,
   "metadata": {
    "colab": {},
    "colab_type": "code",
    "id": "n-9spUHCUzBm"
   },
   "outputs": [],
   "source": [
    "class MLP(nn.Module):\n",
    "\n",
    "    def __init__(self, input_size, hidden_size, out_size):\n",
    "        super(MLP, self).__init__()\n",
    "\n",
    "        self.features  = nn.Sequential(\n",
    "                      nn.Linear(input_size, hidden_size),\n",
    "                      nn.ReLU(),\n",
    "                      nn.Linear(hidden_size, hidden_size),\n",
    "                      nn.ReLU()\n",
    "                    )\n",
    "        self.out     = nn.Linear(hidden_size, out_size)\n",
    "        self.softmax = nn.Softmax()\n",
    "\n",
    "    def forward(self, X):\n",
    "    \n",
    "        X = X.view(X.size(0), -1)\n",
    "\n",
    "        feature = self.features(X)\n",
    "        output  = self.softmax(self.out(feature))\n",
    "\n",
    "        return output\n",
    "\n",
    "input_size  = 28 * 28\n",
    "hidden_size = 128\n",
    "out_size    = 10 #classes\n",
    "\n",
    "torch.manual_seed(42)\n",
    "net = MLP(input_size, hidden_size, out_size).to(args['device']) #cast na GPU "
   ]
  },
  {
   "cell_type": "markdown",
   "metadata": {
    "colab_type": "text",
    "id": "sb7zTsWV1cyQ"
   },
   "source": [
    "## Definindo loss e otimizador\n",
    "\n",
    "```\n",
    "criterion = nn.CrossEntropyLoss().to(args['device'])\n",
    "optimizer = optim.Adam(net.parameters(), lr=args['lr'], weight_decay=args['weight_decay'])\n",
    "```"
   ]
  },
  {
   "cell_type": "code",
   "execution_count": 55,
   "metadata": {
    "colab": {},
    "colab_type": "code",
    "id": "nx4MecnX1e2E"
   },
   "outputs": [],
   "source": [
    "criterion = nn.CrossEntropyLoss().to(args['device'])\n",
    "optimizer = optim.Adam(net.parameters(), lr=args['lr'], weight_decay=args['weight_decay'])"
   ]
  },
  {
   "cell_type": "markdown",
   "metadata": {
    "colab_type": "text",
    "id": "1ujnT7rl0bjg"
   },
   "source": [
    "# Fluxo de Treinamento\n",
    "\n",
    "Agora vamos aplicar o conhecimento que acabamos de aprender!\n",
    "\n",
    "Relembrando o passo a passo do fluxo de treinamento:\n",
    "* Iterar nas épocas\n",
    "* Iterar nos batches\n",
    "* Cast dos dados no dispositivo de hardware\n",
    "* Forward na rede e cálculo da loss\n",
    "* Cálculo do gradiente e atualização dos pesos\n",
    "\n",
    "Para acompanhar a convergência do seu modelo (e garantir que tudo foi feito certinho), ao final de cada época podemos imprimir a média e o desvio padrão das perdas de cada iteração.\n",
    "```\n",
    "for epoch in range(args['num_epochs']):\n",
    "    start = time.time()\n",
    "\n",
    "    epoch_loss = []\n",
    "    for batch in train_loader:\n",
    "    \n",
    "        dado, rotulo = batch\n",
    "\n",
    "        # Cast na GPU\n",
    "        dado   = dado.to(args['device'])\n",
    "        rotulo = rotulo.to(args['device'])\n",
    "\n",
    "        # Forward \n",
    "        pred = net(dado)\n",
    "        loss = criterion(pred, rotulo)\n",
    "        epoch_loss.append(loss.cpu().data)\n",
    "\n",
    "        # Backward\n",
    "        loss.backward()\n",
    "        optimizer.step()\n",
    "\n",
    "    epoch_loss = np.asarray(epoch_loss)\n",
    "    end = time.time()\n",
    "\n",
    "    print(\"Epoca %d, Loss: %.4f +\\- %.4f, Tempo: %.2f\" % (epoch, epoch_loss.mean(), epoch_loss.std(), end-start) )\n",
    "```"
   ]
  },
  {
   "cell_type": "code",
   "execution_count": 57,
   "metadata": {},
   "outputs": [
    {
     "name": "stdout",
     "output_type": "stream",
     "text": [
      "cuda\n"
     ]
    }
   ],
   "source": [
    "print(args['device'])"
   ]
  },
  {
   "cell_type": "code",
   "execution_count": 60,
   "metadata": {
    "colab": {
     "base_uri": "https://localhost:8080/",
     "height": 617
    },
    "colab_type": "code",
    "executionInfo": {
     "elapsed": 1131491,
     "status": "ok",
     "timestamp": 1576694708836,
     "user": {
      "displayName": "Camila Laranjeira",
      "photoUrl": "https://lh3.googleusercontent.com/a-/AAuE7mCfgXxjTVPyGE0vH1sGz0gI39poyLbeKld6jeGHhEg=s64",
      "userId": "03895474106233302954"
     },
     "user_tz": 180
    },
    "id": "KNuBUUrS0VCn",
    "outputId": "b76fd026-186d-4e92-bf3e-4c849139ea5a"
   },
   "outputs": [
    {
     "name": "stderr",
     "output_type": "stream",
     "text": [
      "<>:25: SyntaxWarning: invalid escape sequence '\\-'\n",
      "<>:25: SyntaxWarning: invalid escape sequence '\\-'\n",
      "C:\\Users\\User\\AppData\\Local\\Temp\\ipykernel_13568\\1161961780.py:25: SyntaxWarning: invalid escape sequence '\\-'\n",
      "  print(\"Epoca %d, Loss: %.4f +\\- %.4f, Tempo: %.2f\" % (epoch, epoch_loss.mean(), epoch_loss.std(), end-start) )\n"
     ]
    },
    {
     "name": "stdout",
     "output_type": "stream",
     "text": [
      "Epoca 0, Loss: 2.1762 +\\- 0.2025, Tempo: 24.63\n",
      "Epoca 1, Loss: 2.2119 +\\- 0.1908, Tempo: 24.56\n",
      "Epoca 2, Loss: 2.1732 +\\- 0.2033, Tempo: 24.93\n",
      "Epoca 3, Loss: 2.1739 +\\- 0.2013, Tempo: 24.42\n",
      "Epoca 4, Loss: 2.2083 +\\- 0.1942, Tempo: 24.74\n",
      "Epoca 5, Loss: 2.2138 +\\- 0.1922, Tempo: 24.66\n",
      "Epoca 6, Loss: 2.2231 +\\- 0.1913, Tempo: 24.84\n",
      "Epoca 7, Loss: 2.3001 +\\- 0.1652, Tempo: 24.61\n",
      "Epoca 8, Loss: 2.3479 +\\- 0.1416, Tempo: 24.79\n",
      "Epoca 9, Loss: 2.3551 +\\- 0.1371, Tempo: 24.55\n",
      "Epoca 10, Loss: 2.3556 +\\- 0.1378, Tempo: 24.74\n",
      "Epoca 11, Loss: 2.3561 +\\- 0.1369, Tempo: 24.62\n",
      "Epoca 12, Loss: 2.3566 +\\- 0.1377, Tempo: 24.66\n",
      "Epoca 13, Loss: 2.3570 +\\- 0.1360, Tempo: 24.40\n",
      "Epoca 14, Loss: 2.3573 +\\- 0.1371, Tempo: 24.82\n",
      "Epoca 15, Loss: 2.3575 +\\- 0.1354, Tempo: 24.64\n",
      "Epoca 16, Loss: 2.3578 +\\- 0.1364, Tempo: 24.99\n",
      "Epoca 17, Loss: 2.3580 +\\- 0.1363, Tempo: 24.49\n",
      "Epoca 18, Loss: 2.3581 +\\- 0.1364, Tempo: 24.76\n",
      "Epoca 19, Loss: 2.3582 +\\- 0.1355, Tempo: 24.58\n",
      "Epoca 20, Loss: 2.3582 +\\- 0.1356, Tempo: 24.88\n",
      "Epoca 21, Loss: 2.3582 +\\- 0.1351, Tempo: 24.37\n",
      "Epoca 22, Loss: 2.3583 +\\- 0.1364, Tempo: 24.62\n",
      "Epoca 23, Loss: 2.3584 +\\- 0.1348, Tempo: 24.82\n",
      "Epoca 24, Loss: 2.3584 +\\- 0.1351, Tempo: 24.53\n",
      "Epoca 25, Loss: 2.3585 +\\- 0.1351, Tempo: 24.56\n",
      "Epoca 26, Loss: 2.3585 +\\- 0.1349, Tempo: 24.99\n",
      "Epoca 27, Loss: 2.3586 +\\- 0.1356, Tempo: 24.56\n",
      "Epoca 28, Loss: 2.3587 +\\- 0.1357, Tempo: 24.99\n",
      "Epoca 29, Loss: 2.3587 +\\- 0.1344, Tempo: 24.33\n"
     ]
    }
   ],
   "source": [
    "for epoch in range(args['num_epochs']):\n",
    "    start = time.time()\n",
    "\n",
    "    epoch_loss = []\n",
    "    for batch in train_loader:\n",
    "    \n",
    "        dado, rotulo = batch\n",
    "\n",
    "        # Cast na GPU\n",
    "        dado   = dado.to(args['device'])\n",
    "        rotulo = rotulo.to(args['device'])\n",
    "\n",
    "        # Forward \n",
    "        pred = net(dado)\n",
    "        loss = criterion(pred, rotulo)\n",
    "        epoch_loss.append(loss.cpu().data)\n",
    "\n",
    "        # Backward\n",
    "        loss.backward()\n",
    "        optimizer.step()\n",
    "\n",
    "    epoch_loss = np.asarray(epoch_loss)\n",
    "    end = time.time()\n",
    "\n",
    "    print(\"Epoca %d, Loss: %.4f +\\- %.4f, Tempo: %.2f\" % (epoch, epoch_loss.mean(), epoch_loss.std(), end-start) )\n"
   ]
  },
  {
   "cell_type": "markdown",
   "metadata": {
    "colab_type": "text",
    "id": "WVQ3sTGC3SSL"
   },
   "source": [
    "### Interpretando a qualidade do modelo\n",
    "\n",
    "Apesar da loss ser o critério utilizado na otimização do modelo, seu valor é pouco interpretável por seres humanos.\n",
    "\n",
    "* *A loss está melhorando, mas como saber se meu modelo está bom mesmo?*\n",
    "\n",
    "Podemos calcular uma métrica mais interpretável. No caso da classificação, temos a acurácia como métrica mais simples de avaliação. Esse valor será usado exclusivamente para visualizar a qualidade do modelo, não interferindo no treinamento da rede. \n",
    "\n",
    "Podemos modificar a célula anterior para adicionar a etapa de teste e verificar a eveloução da acurária do modelo utilizaremos a biblioteca Scikit-Learn para calcular a acurácia, para isso basta\n",
    "* Armazenar os rótulos de cada iteração\n",
    "* Calcular a predição a partir da saída da rede\n",
    "* Utilizar a função do sklearn para cálculo da acurácia\n",
    "```python\n",
    "metrics.accuracy_score(rotulos, ypreds)\n",
    "```\n",
    "\n",
    "Documentação: https://scikit-learn.org/stable/modules/generated/sklearn.metrics.accuracy_score.html"
   ]
  },
  {
   "cell_type": "code",
   "execution_count": 66,
   "metadata": {},
   "outputs": [
    {
     "name": "stderr",
     "output_type": "stream",
     "text": [
      "<>:45: SyntaxWarning: invalid escape sequence '\\-'\n",
      "<>:45: SyntaxWarning: invalid escape sequence '\\-'\n",
      "C:\\Users\\User\\AppData\\Local\\Temp\\ipykernel_13568\\1992902317.py:45: SyntaxWarning: invalid escape sequence '\\-'\n",
      "  print(\"Epoca %d, Loss: %.4f, Val_Loss %.4f, +\\- %.4f, Tempo: %.2f\" % (epoch, epoch_loss.mean(),val_epoch_loss.mean(), epoch_loss.std(), end-start) )\n"
     ]
    },
    {
     "name": "stdout",
     "output_type": "stream",
     "text": [
      "Epoca 0, Loss: 2.3588, Val_Loss 2.3600, +\\- 0.1344, Tempo: 107.22\n",
      "Epoca 1, Loss: 2.3588, Val_Loss 2.3600, +\\- 0.1362, Tempo: 106.10\n",
      "Epoca 2, Loss: 2.3588, Val_Loss 2.3600, +\\- 0.1353, Tempo: 105.32\n",
      "Epoca 3, Loss: 2.3588, Val_Loss 2.3600, +\\- 0.1360, Tempo: 106.67\n",
      "Epoca 4, Loss: 2.3588, Val_Loss 2.3600, +\\- 0.1351, Tempo: 103.84\n",
      "Epoca 5, Loss: 2.3588, Val_Loss 2.3601, +\\- 0.1361, Tempo: 106.60\n",
      "Epoca 6, Loss: 2.3588, Val_Loss 2.3601, +\\- 0.1362, Tempo: 105.40\n",
      "Epoca 7, Loss: 2.3588, Val_Loss 2.3601, +\\- 0.1356, Tempo: 102.66\n",
      "Epoca 8, Loss: 2.3589, Val_Loss 2.3601, +\\- 0.1358, Tempo: 34.98\n",
      "Epoca 9, Loss: 2.3589, Val_Loss 2.3601, +\\- 0.1355, Tempo: 29.46\n",
      "Epoca 10, Loss: 2.3589, Val_Loss 2.3601, +\\- 0.1351, Tempo: 29.19\n",
      "Epoca 11, Loss: 2.3589, Val_Loss 2.3602, +\\- 0.1363, Tempo: 29.24\n",
      "Epoca 12, Loss: 2.3589, Val_Loss 2.3602, +\\- 0.1348, Tempo: 28.96\n",
      "Epoca 13, Loss: 2.3589, Val_Loss 2.3602, +\\- 0.1364, Tempo: 29.09\n",
      "Epoca 14, Loss: 2.3589, Val_Loss 2.3602, +\\- 0.1353, Tempo: 29.00\n",
      "Epoca 15, Loss: 2.3589, Val_Loss 2.3602, +\\- 0.1376, Tempo: 29.36\n",
      "Epoca 16, Loss: 2.3589, Val_Loss 2.3602, +\\- 0.1353, Tempo: 29.16\n",
      "Epoca 17, Loss: 2.3589, Val_Loss 2.3602, +\\- 0.1350, Tempo: 28.94\n",
      "Epoca 18, Loss: 2.3589, Val_Loss 2.3602, +\\- 0.1349, Tempo: 29.12\n",
      "Epoca 19, Loss: 2.3589, Val_Loss 2.3602, +\\- 0.1356, Tempo: 28.98\n"
     ]
    }
   ],
   "source": [
    "for epoch in range(20):\n",
    "    start = time.time()\n",
    "\n",
    "    epoch_loss = []\n",
    "   \n",
    "    for batch in train_loader:\n",
    "   \n",
    "        dado, rotulo = batch\n",
    "\n",
    "        # Cast na GPU\n",
    "        dado   = dado.to(args['device'])\n",
    "        rotulo = rotulo.to(args['device'])\n",
    "\n",
    "        # Forward\n",
    "        pred = net(dado)\n",
    "        loss = criterion(pred, rotulo)\n",
    "        epoch_loss.append(loss.cpu().data)\n",
    "\n",
    "        # Backward\n",
    "        loss.backward()\n",
    "        optimizer.step()\n",
    "\n",
    "    epoch_loss = np.asarray(epoch_loss)\n",
    "   \n",
    "    val_epoch_loss = []\n",
    "   \n",
    "    for batch in test_loader:\n",
    "       \n",
    "       \n",
    "        dado, rotulo = batch\n",
    "       \n",
    "        # cast na GPU\n",
    "       \n",
    "        dado   = dado.to(args['device'])\n",
    "        rotulo = rotulo.to(args['device'])\n",
    "         # Forward\n",
    "        pred = net(dado)\n",
    "        loss = criterion(pred, rotulo)\n",
    "        val_epoch_loss.append(loss.cpu().data)\n",
    "       \n",
    "    val_epoch_loss = np.asarray(val_epoch_loss)\n",
    "   \n",
    "    end = time.time()\n",
    "\n",
    "    print(\"Epoca %d, Loss: %.4f, Val_Loss %.4f, +\\- %.4f, Tempo: %.2f\" % (epoch, epoch_loss.mean(),val_epoch_loss.mean(), epoch_loss.std(), end-start) )"
   ]
  },
  {
   "cell_type": "code",
   "execution_count": 83,
   "metadata": {},
   "outputs": [],
   "source": [
    "def acuracia_rede(predict, rotulo):\n",
    "    predict = predict.cpu().tolist()\n",
    "    rotulo = rotulo.cpu().tolist()\n",
    "   \n",
    "    len_batch = len(predict)\n",
    "   \n",
    "    acertos = 0\n",
    "   \n",
    "    for i in range(len_batch):\n",
    "        if predict[i]==rotulo[i]:\n",
    "            acertos+=1\n",
    "   \n",
    "    print(\"A rede possui a precisão igual a %.2f %%\"%(acertos/len_batch*100))"
   ]
  },
  {
   "cell_type": "code",
   "execution_count": 102,
   "metadata": {},
   "outputs": [
    {
     "name": "stdout",
     "output_type": "stream",
     "text": [
      "A rede possui a precisão igual a 0.00 %\n"
     ]
    },
    {
     "data": {
      "image/png": "[encoded data removed]",
      "text/plain": [
       "<Figure size 640x480 with 1 Axes>"
      ]
     },
     "metadata": {},
     "output_type": "display_data"
    }
   ],
   "source": [
    "for batch in test_loader:\n",
    "    dado, rotulo = batch\n",
    "       \n",
    "        # cast na GPU\n",
    "       \n",
    "    dado   = dado.to(args['device'])\n",
    "    rotulo = rotulo.to(args['device'])\n",
    "   \n",
    "    pred = net(dado)\n",
    "   \n",
    "    predicted_class = torch.argmax(pred, dim=1)\n",
    "   \n",
    "    #print(predicted_class.to('cpu').data)\n",
    "   \n",
    "    plt.figure()\n",
    "    plt.imshow(dado.to('cpu').data[0][0])\n",
    "    plt.title('Rotulo: '+ str(predicted_class[0]))\n",
    "    acuracia_rede(predicted_class,rotulo)\n",
    "    break"
   ]
  }
 ],
 "metadata": {
  "accelerator": "GPU",
  "colab": {
   "collapsed_sections": [],
   "name": "Carregamento de Dados.ipynb",
   "provenance": []
  },
  "kernelspec": {
   "display_name": "Python 3 (ipykernel)",
   "language": "python",
   "name": "python3"
  },
  "language_info": {
   "codemirror_mode": {
    "name": "ipython",
    "version": 3
   },
   "file_extension": ".py",
   "mimetype": "text/x-python",
   "name": "python",
   "nbconvert_exporter": "python",
   "pygments_lexer": "ipython3",
   "version": "3.12.4"
  }
 },
 "nbformat": 4,
 "nbformat_minor": 4
}
