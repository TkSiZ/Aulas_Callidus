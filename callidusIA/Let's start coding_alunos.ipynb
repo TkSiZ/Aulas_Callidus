{
 "cells": [
  {
   "cell_type": "markdown",
   "id": "84ff1ffe",
   "metadata": {},
   "source": [
    "<h1>\n",
    "    <center>\n",
    "        AI for Sales and Advertising – Sell like the Wolf of AI Street"
   ]
  },
  {
   "cell_type": "markdown",
   "id": "96d22ff0",
   "metadata": {},
   "source": [
    "# Let's start coding"
   ]
  },
  {
   "cell_type": "markdown",
   "id": "c108d45b",
   "metadata": {},
   "source": [
    "## First, import the three following required libraries:\n",
    "\n",
    "* 1. numpy, which you will use to build the environment matrix.\n",
    "* 2. matplotlib.pyplot, which you will use to plot the histogram.\n",
    "* 3. random, which you will use to generate the random numbers needed for the simulation."
   ]
  },
  {
   "cell_type": "code",
   "execution_count": 2,
   "id": "af0de0be",
   "metadata": {},
   "outputs": [],
   "source": [
    "import numpy as np\n",
    "import matplotlib.pyplot as plt\n",
    "import random "
   ]
  },
  {
   "cell_type": "markdown",
   "id": "94c5698e",
   "metadata": {},
   "source": [
    "## Then set the parameters for the number of customers and strategies\n",
    "\n",
    "* 1. N = 10,000 customers.\n",
    "* 2. d = 9 strategies."
   ]
  },
  {
   "cell_type": "code",
   "execution_count": 3,
   "id": "1e4e9c31",
   "metadata": {},
   "outputs": [],
   "source": [
    "N = [10000]\n",
    "conversion_rates = [0.05, 0.13, 0.09, 0.16, 0.11, 0.04, 0.20, 0.08, 0.01]\n",
    "d = len(conversion_rates)"
   ]
  },
  {
   "cell_type": "markdown",
   "id": "72436f52",
   "metadata": {},
   "source": []
  },
  {
   "cell_type": "code",
   "execution_count": 4,
   "id": "daac48e8",
   "metadata": {},
   "outputs": [
    {
     "ename": "TypeError",
     "evalue": "'list' object cannot be interpreted as an integer",
     "output_type": "error",
     "traceback": [
      "\u001b[1;31m---------------------------------------------------------------------------\u001b[0m",
      "\u001b[1;31mTypeError\u001b[0m                                 Traceback (most recent call last)",
      "Cell \u001b[1;32mIn[4], line 1\u001b[0m\n\u001b[1;32m----> 1\u001b[0m X \u001b[38;5;241m=\u001b[39m \u001b[43mnp\u001b[49m\u001b[38;5;241;43m.\u001b[39;49m\u001b[43mzeros\u001b[49m\u001b[43m(\u001b[49m\u001b[43m(\u001b[49m\u001b[43mN\u001b[49m\u001b[43m,\u001b[49m\u001b[43md\u001b[49m\u001b[43m)\u001b[49m\u001b[43m)\u001b[49m\n\u001b[0;32m      2\u001b[0m \u001b[38;5;28;01mfor\u001b[39;00m i \u001b[38;5;129;01min\u001b[39;00m \u001b[38;5;28mrange\u001b[39m(N):\n\u001b[0;32m      3\u001b[0m     \u001b[38;5;28;01mfor\u001b[39;00m j \u001b[38;5;129;01min\u001b[39;00m \u001b[38;5;28mrange\u001b[39m(d):\n",
      "\u001b[1;31mTypeError\u001b[0m: 'list' object cannot be interpreted as an integer"
     ]
    }
   ],
   "source": [
    "X = np.zeros((N,d))\n",
    "for i in range(N):\n",
    "    for j in range(d):\n",
    "        if np.random.rand() < conversionRates[j]:\n",
    "            X[i][j] = 1"
   ]
  },
  {
   "cell_type": "markdown",
   "id": "e5d4997d",
   "metadata": {},
   "source": [
    "Now that the environment is ready, you can start implementing the AI. To do so, the first step is to introduce and initialize the variables you will need for the implementation:"
   ]
  },
  {
   "cell_type": "markdown",
   "id": "0ecdb7cb",
   "metadata": {},
   "source": [
    "1. **strategies_selected_rs**: A list that will contain the strategies selected over the rounds by the Random Selection algorithm. Initialize it as an empty list.\n",
    "\n",
    "2. **strategies_selected_ts**: A list that will contain the strategies selected over the rounds by the Thompson Sampling AI model. Initialize it as an empty list.\n",
    "\n",
    "3. **total_rewards_rs**: The total reward accumulated over the rounds by the Random Selection algorithm. Initialize it as 0.\n",
    "\n",
    "4. **total_rewards_ts**: The total reward accumulated over the rounds by the Thompson Sampling AI model. Initialize it as 0.\n",
    "\n",
    "5. **number_of_rewards_1**: A list of 9 elements which will contain for each strategy the number of times it received a 1 reward. Initialize it as a list of 9 zeros.\n",
    "\n",
    "6. **number_of_rewards_0**: A list of 9 elements which will contain for each strategy the number of times it received a 0 reward. Initialize it as a list of 9 zeros."
   ]
  },
  {
   "cell_type": "code",
   "execution_count": null,
   "id": "35829431",
   "metadata": {},
   "outputs": [],
   "source": [
    "strategies_selected_rs = []\n",
    "strategies_selected_ts = []\n",
    "total_reward_rs = 0\n",
    "total_reward_ts = 0\n",
    "numbers_of_rewards_1 = [0] * d\n",
    "numbers_of_rewards_0 = [0] * d\n",
    "print(numbers_of_rewards_1)"
   ]
  },
  {
   "cell_type": "raw",
   "id": "68f4520b-66e5-4a53-9209-c4b871c71982",
   "metadata": {},
   "source": []
  },
  {
   "cell_type": "code",
   "execution_count": null,
   "id": "7915e243",
   "metadata": {},
   "outputs": [],
   "source": [
    "for n in range(0, N):\n",
    "    # random selection\n",
    "    strategy_rs = random.randrange(d)\n",
    "    strategies_selected_rs.append(strategy_rs)\n",
    "    reward_rs = X[n, strategy_rs]\n",
    "    total_reward_rs = total_reward_rs + reward_rs"
   ]
  },
  {
   "cell_type": "markdown",
   "id": "730e31f7",
   "metadata": {},
   "source": [
    "Next, you need to implement Thompson Sampling following exactly Steps 1, 2, and 3 provided previously. I recommend looking at these steps again before coding the next part, and try to code by yourself before seeing my solution. That's the best way you can progress; practice makes perfect.\n",
    "\n",
    "You should implement Thompson Sampling step by step, starting with the first step. Let's remind ourselves of it:\n"
   ]
  },
  {
   "cell_type": "markdown",
   "id": "4d475321",
   "metadata": {},
   "source": [
    "**Step 1**: For each strategy i, take a random draw from the following distribution:\n",
    "\n",
    "\\begin{equation}\n",
    "\\theta_i(n)\\sim \\beta(N_i^1(n)+1,N_i^0(n)+1)\n",
    "\\end{equation}\n",
    "\n",
    "* where:\n",
    "\n",
    "1. $N_i^1(n)$ is the number of times the strategy i has received a 1 reward up to round n;\n",
    "2. $N_i^0(n)$ is the number of times the strategy i has received a 0 reward up to round n"
   ]
  },
  {
   "cell_type": "markdown",
   "id": "96ae62ff",
   "metadata": {},
   "source": [
    "Let's see how Step 1 is implemented.\n",
    "\n",
    "Code a second for loop that iterates the 9 strategies, because you have to take a random draw from the Beta distribution of each of the 9 strategies.\n",
    "\n",
    "The random draws from the Beta distributions are generated by the **betavariate()** function taken from the **random** library, which you imported at the beginning."
   ]
  },
  {
   "cell_type": "code",
   "execution_count": 1,
   "id": "53097cff",
   "metadata": {},
   "outputs": [],
   "source": [
    "# Thompson Sampling\n",
    "#    strategy_ts = 0\n",
    "#    max_random = 0\n",
    "#    for i in range(0, d):\n",
    "#        random_beta = random.betavariate(numbers_of_rewards_1[i] + 1, numbers_of_rewards_0[i] + 1)"
   ]
  },
  {
   "cell_type": "markdown",
   "id": "48c5504a",
   "metadata": {},
   "source": [
    "Now implement Step 2, that is:\n",
    "\n",
    "**Step 2**: Select the strategy $s(n)$ that has the highest $\\theta_i(n)$:\n",
    "\n",
    "\\begin{equation}\n",
    "    s(n)=argmax_{i \\in \\{1,\\dots,9\\}}(\\theta_i(n))\n",
    "\\end{equation}"
   ]
  },
  {
   "cell_type": "markdown",
   "id": "921da1f6",
   "metadata": {},
   "source": [
    "To implement Step 2, you stay in the second for loop which iterates the 9 strategies, and use a simple trick with an if condition that will figure out the highest $\\theta_i(n)$.\n",
    "\n",
    "The trick is the following: while iterating the strategies, if you find a random draw (**random_beta**) that is higher than the maximum of the random draws obtained so far (**max_random**), then that maximum becomes equal to that higher random draw."
   ]
  },
  {
   "cell_type": "code",
   "execution_count": 2,
   "id": "3b60c1f1",
   "metadata": {},
   "outputs": [],
   "source": [
    "# Thompson Sampling\n",
    "#    strategy_ts = 0\n",
    "#    max_random = 0\n",
    "#    for i in range(0, d):\n",
    "#        random_beta = random.betavariate(numbers_of_rewards_1[i] + 1, numbers_of_rewards_0[i] + 1)\n",
    "#        if random_beta > max_random:\n",
    "#            max_random = random_beta\n",
    "#            strategy_ts = i\n",
    "#    reward_ts = X[n, strategy_ts]"
   ]
  },
  {
   "cell_type": "markdown",
   "id": "beda9d8d",
   "metadata": {},
   "source": [
    "And finally, let's implement Step 3, the easiest one:"
   ]
  },
  {
   "cell_type": "markdown",
   "id": "560c4b3c",
   "metadata": {},
   "source": [
    "**Step 3**: Update $N_i^1(n)$ and $N_i^0(n)$ according to the following conditions:\n",
    "1. If the strategy selected s n ( ) received a 1 reward:\n",
    "\n",
    "$N_i^1(n) := N_i^1(n) + 1$\n",
    "\n",
    "2. If the strategy selected s n ( ) received a 0 reward:\n",
    "\n",
    "$N_i^1(n) := N_i^0(n) + 1$\n",
    "\n",
    "Implement that simply with the exact same two if conditions, translated into code."
   ]
  },
  {
   "cell_type": "code",
   "execution_count": 3,
   "id": "3d878a40",
   "metadata": {},
   "outputs": [],
   "source": [
    "# Thompson Sampling\n",
    "#    strategy_ts = 0\n",
    "#    max_random = 0\n",
    "#    for i in range(0, d):\n",
    "#        random_beta = random.betavariate(numbers_of_rewards_1[i] + 1, numbers_of_rewards_0[i] + 1)\n",
    "#        if random_beta > max_random:\n",
    "#            max_random = random_beta\n",
    "#            strategy_ts = i\n",
    "#    reward_ts = X[n, strategy_ts]\n",
    "#    if reward_ts == 1:\n",
    "#        numbers_of_rewards_1[strategy_ts] = numbers_of_rewards_1[strategy_ts] + 1\n",
    "#    else:\n",
    "#        numbers_of_rewards_0[strategy_ts] = numbers_of_rewards_0[strategy_ts] + 1"
   ]
  },
  {
   "cell_type": "markdown",
   "id": "2aa46905",
   "metadata": {},
   "source": [
    "Next, don't forget to add the strategy selected in Step 2 to our list of strategies (**strategies_selected_ts**), and also to compute the total reward accumulated over the rounds by Thompson Sampling (**total_reward_ts**)."
   ]
  },
  {
   "cell_type": "code",
   "execution_count": 4,
   "id": "fa6940b3",
   "metadata": {},
   "outputs": [],
   "source": [
    " # Thompson Sampling\n",
    "#    strategy_ts = 0\n",
    "#    max_random = 0\n",
    "#    for i in range(0, d):\n",
    "#        random_beta = random.betavariate(numbers_of_rewards_1[i] + 1, numbers_of_rewards_0[i] + 1)\n",
    "#        if random_beta > max_random:\n",
    "#            max_random = random_beta\n",
    "#            strategy_ts = i\n",
    "#    reward_ts = X[n, strategy_ts]\n",
    "#    if reward_ts == 1:\n",
    "#        numbers_of_rewards_1[strategy_ts] = numbers_of_rewards_1[strategy_ts] + 1\n",
    "#    else:\n",
    "#        numbers_of_rewards_0[strategy_ts] = numbers_of_rewards_0[strategy_ts] + 1\n",
    "#    strategies_selected_ts.append(strategy_ts)\n",
    "#    total_reward_ts = total_reward_ts + reward_ts"
   ]
  },
  {
   "cell_type": "code",
   "execution_count": null,
   "id": "3a7ded7d",
   "metadata": {},
   "outputs": [],
   "source": []
  },
  {
   "cell_type": "markdown",
   "id": "a43ca87f",
   "metadata": {},
   "source": [
    "Then compute the final score, which is the relative return of Thompson Sampling with respect to our benchmark, which is Random Selection:"
   ]
  },
  {
   "cell_type": "code",
   "execution_count": null,
   "id": "ae08d7aa",
   "metadata": {},
   "outputs": [],
   "source": []
  },
  {
   "cell_type": "markdown",
   "id": "f7b0d256",
   "metadata": {},
   "source": [
    "## The final result"
   ]
  },
  {
   "cell_type": "markdown",
   "id": "ab46e4eb",
   "metadata": {},
   "source": [
    "By executing this code, I obtained a final relative return of 91%. In other words, Thompson Sampling almost doubled the performance of my Random Selection benchmark. Not too bad!"
   ]
  },
  {
   "cell_type": "markdown",
   "id": "4aeb672f",
   "metadata": {},
   "source": [
    "Finally, plot a histogram of the selected strategies to check that Strategy 7 (at index 6) was the one most selected, since it is the one with the highest conversion rate. To do this, use the hist() function from the matplotlib library."
   ]
  },
  {
   "cell_type": "code",
   "execution_count": null,
   "id": "eb5cf506",
   "metadata": {},
   "outputs": [],
   "source": [
    "# Implementing Random Selection and Thompson Sampling\n",
    "strategies_selected_rs = []\n",
    "strategies_selected_ts = []\n",
    "total_reward_rs = 0\n",
    "total_reward_ts = 0\n",
    "numbers_of_rewards_1 = [0] * d\n",
    "numbers_of_rewards_0 = [0] * d\n",
    "for n in range(0, N):\n",
    "    # Random Selection\n",
    "    strategy_rs = random.randrange(d)\n",
    "    strategies_selected_rs.append(strategy_rs)\n",
    "    reward_rs = X[n, strategy_rs]\n",
    "    total_reward_rs = total_reward_rs + reward_rs\n",
    "    # Thompson Sampling\n",
    "    strategy_ts = 0\n",
    "    max_random = 0\n",
    "    for i in range(0, d):\n",
    "        random_beta = random.betavariate(numbers_of_rewards_1[i] + 1, numbers_of_rewards_0[i] + 1)\n",
    "        if random_beta > max_random:\n",
    "            max_random = random_beta\n",
    "            strategy_ts = i\n",
    "    reward_ts = X[n, strategy_ts]\n",
    "    if reward_ts == 1:\n",
    "        numbers_of_rewards_1[strategy_ts] = numbers_of_rewards_1[strategy_ts] + 1\n",
    "    else:\n",
    "        numbers_of_rewards_0[strategy_ts] = numbers_of_rewards_0[strategy_ts] + 1\n",
    "    strategies_selected_ts.append(strategy_ts)\n",
    "    total_reward_ts = total_reward_ts + reward_ts"
   ]
  },
  {
   "cell_type": "code",
   "execution_count": null,
   "id": "8d1f3e9a",
   "metadata": {},
   "outputs": [],
   "source": []
  },
  {
   "cell_type": "code",
   "execution_count": null,
   "id": "6bbc74e3",
   "metadata": {},
   "outputs": [],
   "source": []
  },
  {
   "cell_type": "code",
   "execution_count": null,
   "id": "c9926f8e",
   "metadata": {},
   "outputs": [],
   "source": []
  },
  {
   "cell_type": "code",
   "execution_count": null,
   "id": "b67ddfa4",
   "metadata": {},
   "outputs": [],
   "source": []
  },
  {
   "cell_type": "code",
   "execution_count": null,
   "id": "ef6f6341",
   "metadata": {},
   "outputs": [],
   "source": []
  },
  {
   "cell_type": "code",
   "execution_count": null,
   "id": "a795c4df",
   "metadata": {},
   "outputs": [],
   "source": []
  },
  {
   "cell_type": "code",
   "execution_count": null,
   "id": "7804a343",
   "metadata": {},
   "outputs": [],
   "source": []
  },
  {
   "cell_type": "code",
   "execution_count": null,
   "id": "3ffe628d",
   "metadata": {},
   "outputs": [],
   "source": []
  },
  {
   "cell_type": "code",
   "execution_count": null,
   "id": "d0218bdd",
   "metadata": {},
   "outputs": [],
   "source": []
  },
  {
   "cell_type": "code",
   "execution_count": null,
   "id": "04dff662",
   "metadata": {},
   "outputs": [],
   "source": []
  },
  {
   "cell_type": "code",
   "execution_count": null,
   "id": "a454bf29",
   "metadata": {},
   "outputs": [],
   "source": []
  }
 ],
 "metadata": {
  "kernelspec": {
   "display_name": "Python 3 (ipykernel)",
   "language": "python",
   "name": "python3"
  },
  "language_info": {
   "codemirror_mode": {
    "name": "ipython",
    "version": 3
   },
   "file_extension": ".py",
   "mimetype": "text/x-python",
   "name": "python",
   "nbconvert_exporter": "python",
   "pygments_lexer": "ipython3",
   "version": "3.9.19"
  }
 },
 "nbformat": 4,
 "nbformat_minor": 5
}
